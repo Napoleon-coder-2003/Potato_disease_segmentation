{
 "cells": [
  {
   "cell_type": "code",
   "execution_count": 1,
   "metadata": {
    "colab": {
     "base_uri": "https://localhost:8080/"
    },
    "executionInfo": {
     "elapsed": 7885,
     "status": "ok",
     "timestamp": 1725190126526,
     "user": {
      "displayName": "Anubhav Dey",
      "userId": "02330257623104926194"
     },
     "user_tz": -330
    },
    "id": "87TKRLbyhg3I",
    "outputId": "3b6d54f8-1754-4463-be17-58a11e3194f4"
   },
   "outputs": [
    {
     "name": "stdout",
     "output_type": "stream",
     "text": [
      "Requirement already satisfied: labelme in c:\\users\\lenovo\\anaconda3\\envs\\my_deep_learning_env\\lib\\site-packages (5.5.0)\n",
      "Requirement already satisfied: gdown in c:\\users\\lenovo\\anaconda3\\envs\\my_deep_learning_env\\lib\\site-packages (from labelme) (5.2.0)\n",
      "Requirement already satisfied: imgviz>=1.7.5 in c:\\users\\lenovo\\anaconda3\\envs\\my_deep_learning_env\\lib\\site-packages (from labelme) (1.7.5)\n",
      "Requirement already satisfied: matplotlib in c:\\users\\lenovo\\anaconda3\\envs\\my_deep_learning_env\\lib\\site-packages (from labelme) (3.9.2)\n",
      "Requirement already satisfied: natsort>=7.1.0 in c:\\users\\lenovo\\anaconda3\\envs\\my_deep_learning_env\\lib\\site-packages (from labelme) (8.4.0)\n",
      "Requirement already satisfied: numpy in c:\\users\\lenovo\\anaconda3\\envs\\my_deep_learning_env\\lib\\site-packages (from labelme) (2.1.0)\n",
      "Requirement already satisfied: onnxruntime!=1.16.0,>=1.14.1 in c:\\users\\lenovo\\anaconda3\\envs\\my_deep_learning_env\\lib\\site-packages (from labelme) (1.19.0)\n",
      "Requirement already satisfied: Pillow>=2.8 in c:\\users\\lenovo\\anaconda3\\envs\\my_deep_learning_env\\lib\\site-packages (from labelme) (10.4.0)\n",
      "Requirement already satisfied: PyYAML in c:\\users\\lenovo\\anaconda3\\envs\\my_deep_learning_env\\lib\\site-packages (from labelme) (6.0.2)\n",
      "Requirement already satisfied: qtpy!=1.11.2 in c:\\users\\lenovo\\anaconda3\\envs\\my_deep_learning_env\\lib\\site-packages (from labelme) (2.4.1)\n",
      "Requirement already satisfied: scikit-image in c:\\users\\lenovo\\anaconda3\\envs\\my_deep_learning_env\\lib\\site-packages (from labelme) (0.24.0)\n",
      "Requirement already satisfied: termcolor in c:\\users\\lenovo\\anaconda3\\envs\\my_deep_learning_env\\lib\\site-packages (from labelme) (2.4.0)\n",
      "Requirement already satisfied: PyQt5!=5.15.3,!=5.15.4 in c:\\users\\lenovo\\anaconda3\\envs\\my_deep_learning_env\\lib\\site-packages (from labelme) (5.15.11)\n",
      "Requirement already satisfied: colorama in c:\\users\\lenovo\\anaconda3\\envs\\my_deep_learning_env\\lib\\site-packages (from labelme) (0.4.6)\n",
      "Requirement already satisfied: coloredlogs in c:\\users\\lenovo\\anaconda3\\envs\\my_deep_learning_env\\lib\\site-packages (from onnxruntime!=1.16.0,>=1.14.1->labelme) (15.0.1)\n",
      "Requirement already satisfied: flatbuffers in c:\\users\\lenovo\\anaconda3\\envs\\my_deep_learning_env\\lib\\site-packages (from onnxruntime!=1.16.0,>=1.14.1->labelme) (24.3.25)\n",
      "Requirement already satisfied: packaging in c:\\users\\lenovo\\anaconda3\\envs\\my_deep_learning_env\\lib\\site-packages (from onnxruntime!=1.16.0,>=1.14.1->labelme) (24.1)\n",
      "Requirement already satisfied: protobuf in c:\\users\\lenovo\\anaconda3\\envs\\my_deep_learning_env\\lib\\site-packages (from onnxruntime!=1.16.0,>=1.14.1->labelme) (5.27.4)\n",
      "Requirement already satisfied: sympy in c:\\users\\lenovo\\anaconda3\\envs\\my_deep_learning_env\\lib\\site-packages (from onnxruntime!=1.16.0,>=1.14.1->labelme) (1.13.2)\n",
      "Requirement already satisfied: PyQt5-sip<13,>=12.15 in c:\\users\\lenovo\\anaconda3\\envs\\my_deep_learning_env\\lib\\site-packages (from PyQt5!=5.15.3,!=5.15.4->labelme) (12.15.0)\n",
      "Requirement already satisfied: PyQt5-Qt5<5.16.0,>=5.15.2 in c:\\users\\lenovo\\anaconda3\\envs\\my_deep_learning_env\\lib\\site-packages (from PyQt5!=5.15.3,!=5.15.4->labelme) (5.15.2)\n",
      "Requirement already satisfied: beautifulsoup4 in c:\\users\\lenovo\\anaconda3\\envs\\my_deep_learning_env\\lib\\site-packages (from gdown->labelme) (4.12.3)\n",
      "Requirement already satisfied: filelock in c:\\users\\lenovo\\anaconda3\\envs\\my_deep_learning_env\\lib\\site-packages (from gdown->labelme) (3.15.4)\n",
      "Requirement already satisfied: requests[socks] in c:\\users\\lenovo\\anaconda3\\envs\\my_deep_learning_env\\lib\\site-packages (from gdown->labelme) (2.32.3)\n",
      "Requirement already satisfied: tqdm in c:\\users\\lenovo\\anaconda3\\envs\\my_deep_learning_env\\lib\\site-packages (from gdown->labelme) (4.66.5)\n",
      "Requirement already satisfied: contourpy>=1.0.1 in c:\\users\\lenovo\\anaconda3\\envs\\my_deep_learning_env\\lib\\site-packages (from matplotlib->labelme) (1.3.0)\n",
      "Requirement already satisfied: cycler>=0.10 in c:\\users\\lenovo\\anaconda3\\envs\\my_deep_learning_env\\lib\\site-packages (from matplotlib->labelme) (0.12.1)\n",
      "Requirement already satisfied: fonttools>=4.22.0 in c:\\users\\lenovo\\anaconda3\\envs\\my_deep_learning_env\\lib\\site-packages (from matplotlib->labelme) (4.53.1)\n",
      "Requirement already satisfied: kiwisolver>=1.3.1 in c:\\users\\lenovo\\anaconda3\\envs\\my_deep_learning_env\\lib\\site-packages (from matplotlib->labelme) (1.4.5)\n",
      "Requirement already satisfied: pyparsing>=2.3.1 in c:\\users\\lenovo\\anaconda3\\envs\\my_deep_learning_env\\lib\\site-packages (from matplotlib->labelme) (3.1.4)\n",
      "Requirement already satisfied: python-dateutil>=2.7 in c:\\users\\lenovo\\anaconda3\\envs\\my_deep_learning_env\\lib\\site-packages (from matplotlib->labelme) (2.9.0)\n",
      "Requirement already satisfied: scipy>=1.9 in c:\\users\\lenovo\\anaconda3\\envs\\my_deep_learning_env\\lib\\site-packages (from scikit-image->labelme) (1.14.1)\n",
      "Requirement already satisfied: networkx>=2.8 in c:\\users\\lenovo\\anaconda3\\envs\\my_deep_learning_env\\lib\\site-packages (from scikit-image->labelme) (3.3)\n",
      "Requirement already satisfied: imageio>=2.33 in c:\\users\\lenovo\\anaconda3\\envs\\my_deep_learning_env\\lib\\site-packages (from scikit-image->labelme) (2.35.1)\n",
      "Requirement already satisfied: tifffile>=2022.8.12 in c:\\users\\lenovo\\anaconda3\\envs\\my_deep_learning_env\\lib\\site-packages (from scikit-image->labelme) (2024.8.28)\n",
      "Requirement already satisfied: lazy-loader>=0.4 in c:\\users\\lenovo\\anaconda3\\envs\\my_deep_learning_env\\lib\\site-packages (from scikit-image->labelme) (0.4)\n",
      "Requirement already satisfied: six>=1.5 in c:\\users\\lenovo\\anaconda3\\envs\\my_deep_learning_env\\lib\\site-packages (from python-dateutil>=2.7->matplotlib->labelme) (1.16.0)\n",
      "Requirement already satisfied: soupsieve>1.2 in c:\\users\\lenovo\\anaconda3\\envs\\my_deep_learning_env\\lib\\site-packages (from beautifulsoup4->gdown->labelme) (2.6)\n",
      "Requirement already satisfied: humanfriendly>=9.1 in c:\\users\\lenovo\\anaconda3\\envs\\my_deep_learning_env\\lib\\site-packages (from coloredlogs->onnxruntime!=1.16.0,>=1.14.1->labelme) (10.0)\n",
      "Requirement already satisfied: charset-normalizer<4,>=2 in c:\\users\\lenovo\\anaconda3\\envs\\my_deep_learning_env\\lib\\site-packages (from requests[socks]->gdown->labelme) (3.3.2)\n",
      "Requirement already satisfied: idna<4,>=2.5 in c:\\users\\lenovo\\anaconda3\\envs\\my_deep_learning_env\\lib\\site-packages (from requests[socks]->gdown->labelme) (3.8)\n",
      "Requirement already satisfied: urllib3<3,>=1.21.1 in c:\\users\\lenovo\\anaconda3\\envs\\my_deep_learning_env\\lib\\site-packages (from requests[socks]->gdown->labelme) (2.2.2)\n",
      "Requirement already satisfied: certifi>=2017.4.17 in c:\\users\\lenovo\\anaconda3\\envs\\my_deep_learning_env\\lib\\site-packages (from requests[socks]->gdown->labelme) (2024.7.4)\n",
      "Requirement already satisfied: PySocks!=1.5.7,>=1.5.6 in c:\\users\\lenovo\\anaconda3\\envs\\my_deep_learning_env\\lib\\site-packages (from requests[socks]->gdown->labelme) (1.7.1)\n",
      "Requirement already satisfied: mpmath<1.4,>=1.1.0 in c:\\users\\lenovo\\anaconda3\\envs\\my_deep_learning_env\\lib\\site-packages (from sympy->onnxruntime!=1.16.0,>=1.14.1->labelme) (1.3.0)\n",
      "Requirement already satisfied: pyreadline3 in c:\\users\\lenovo\\anaconda3\\envs\\my_deep_learning_env\\lib\\site-packages (from humanfriendly>=9.1->coloredlogs->onnxruntime!=1.16.0,>=1.14.1->labelme) (3.4.1)\n",
      "Note: you may need to restart the kernel to use updated packages.\n"
     ]
    }
   ],
   "source": [
    "pip install labelme"
   ]
  },
  {
   "cell_type": "code",
   "execution_count": 4,
   "metadata": {},
   "outputs": [
    {
     "name": "stdout",
     "output_type": "stream",
     "text": [
      "Converted dbe05365-9166-45f7-94cf-cefca787215a___RS_Early.B 9144.json to PNG format and saved to C:/Users/Lenovo/OneDrive/Desktop/Project_main/Mask_Anubhav\\E_B\\dbe05365-9166-45f7-94cf-cefca787215a___RS_Early.B 9144.png\n"
     ]
    }
   ],
   "source": [
    "# code to convert json files to png labels\n",
    "from typing import Annotated\n",
    "import os\n",
    "import shutil\n",
    "\n",
    "# Define source and destination directories\n",
    "source_dir = 'C:/Users/Lenovo/OneDrive/Desktop/Project_main/Label.json'\n",
    "destination_dir = 'C:/Users/Lenovo/OneDrive/Desktop/Project_main/Mask_Anubhav'\n",
    "\n",
    "# List of subdirectories to process\n",
    "subdirectories = ['E_B', 'Healthy', 'L_B']\n",
    "\n",
    "# Ensure the destination directories exist\n",
    "for subdir in subdirectories:\n",
    "    os.makedirs(os.path.join(destination_dir, subdir), exist_ok=True)\n",
    "\n",
    "# Convert each JSON file to a PNG image using labelme_export_json\n",
    "for subdir in subdirectories:\n",
    "    subdir_path = os.path.join(source_dir, subdir)\n",
    "    json_files = os.listdir(subdir_path)\n",
    "    for json_file in json_files:\n",
    "        if json_file.endswith('.json'):\n",
    "            json_path = os.path.join(subdir_path, json_file)\n",
    "            output_dir = os.path.join(destination_dir, subdir, json_file.replace('.json', ''))\n",
    "\n",
    "            # Ensure paths with spaces are properly quoted\n",
    "            json_path_quoted = f'\"{json_path}\"'\n",
    "            output_dir_quoted = f'\"{output_dir}\"'\n",
    "\n",
    "            # Create the output directory\n",
    "            os.makedirs(output_dir, exist_ok=True)\n",
    "\n",
    "            # Run labelme_export_json command to convert JSON to dataset format\n",
    "            os.system(f'labelme_export_json {json_path_quoted} -o {output_dir_quoted}')\n",
    "\n",
    "            # Check if output directory was created successfully\n",
    "            if os.path.exists(output_dir):\n",
    "                annotated_image_path = os.path.join(output_dir, 'label.png')\n",
    "\n",
    "                 # Check if the annotated image exists\n",
    "                if os.path.exists(annotated_image_path):\n",
    "                    output_png_path = os.path.join(destination_dir, subdir, json_file.replace('.json', '.png'))\n",
    "                    os.makedirs(os.path.join(destination_dir, subdir), exist_ok=True)\n",
    "                    shutil.move(annotated_image_path, output_png_path)\n",
    "                    print(f\"Converted {json_file} to PNG format and saved to {output_png_path}\")\n",
    "                else:\n",
    "                    print(f\"Annotated image not found for {json_file}. Skipping.\")\n",
    "\n",
    "                # Remove the generated output directory to clean up\n",
    "                shutil.rmtree(output_dir)\n",
    "            else:\n",
    "                print(f\"Failed to create output directory for {json_file}. Skipping.\")"
   ]
  },
  {
   "cell_type": "code",
   "execution_count": 5,
   "metadata": {
    "colab": {
     "base_uri": "https://localhost:8080/"
    },
    "executionInfo": {
     "elapsed": 525,
     "status": "ok",
     "timestamp": 1725190351205,
     "user": {
      "displayName": "Anubhav Dey",
      "userId": "02330257623104926194"
     },
     "user_tz": -330
    },
    "id": "rn4lWMBYIbDc",
    "outputId": "f7922fbd-71be-45a5-8fc5-5ea63c880f88"
   },
   "outputs": [
    {
     "name": "stdout",
     "output_type": "stream",
     "text": [
      "Deleted: C:/Users/Lenovo/OneDrive/Desktop/Project_main/Label.json\\E_B\\dbe05365-9166-45f7-94cf-cefca787215a___RS_Early.B 9144.json\n",
      "Deleted: C:/Users/Lenovo/OneDrive/Desktop/Project_main/Anubhav\\E_B\\dbe05365-9166-45f7-94cf-cefca787215a___RS_Early.B 9144.JPG\n"
     ]
    }
   ],
   "source": [
    "#Code to delete the already annotated images from the original folder as well as json file, to reduce repetation\n",
    "import os\n",
    "\n",
    "# Define the paths for the three directories\n",
    "mask2_dir = 'C:/Users/Lenovo/OneDrive/Desktop/Project_main/Mask_Anubhav'\n",
    "labelled_json_dir = 'C:/Users/Lenovo/OneDrive/Desktop/Project_main/Label.json'\n",
    "plant_diseases_dir = 'C:/Users/Lenovo/OneDrive/Desktop/Project_main/Anubhav'\n",
    "\n",
    "# List the subfolders\n",
    "subfolders = ['E_B', 'Healthy', 'L_B']\n",
    "\n",
    "# Function to get the first word of a filename (up to the first underscore or period)\n",
    "def get_first_word(filename):\n",
    "    return filename.split('_')[0].split('.')[0]\n",
    "\n",
    "# Function to delete images based on the first word match\n",
    "def delete_images(mask_dir, target_dir):\n",
    "    for subfolder in subfolders:\n",
    "        mask_subfolder_path = os.path.join(mask_dir, subfolder)\n",
    "        target_subfolder_path = os.path.join(target_dir, subfolder)\n",
    "\n",
    "        # Get the list of images in the mask2 subfolder and extract their first words\n",
    "        mask_images_first_words = {get_first_word(img) for img in os.listdir(mask_subfolder_path)}\n",
    "\n",
    "        # Loop through the target subfolder images\n",
    "        for image_name in os.listdir(target_subfolder_path):\n",
    "            if get_first_word(image_name) in mask_images_first_words:\n",
    "                # Construct full path to the image\n",
    "                image_path = os.path.join(target_subfolder_path, image_name)\n",
    "                # Delete the image\n",
    "                os.remove(image_path)\n",
    "                print(f\"Deleted: {image_path}\")\n",
    "\n",
    "# Delete images from Labelled.json and plant diseases directories\n",
    "delete_images(mask2_dir, labelled_json_dir)\n",
    "delete_images(mask2_dir, plant_diseases_dir)\n",
    "\n"
   ]
  },
  {
   "cell_type": "code",
   "execution_count": 6,
   "metadata": {
    "id": "9wusxhlyYA-a"
   },
   "outputs": [
    {
     "name": "stdout",
     "output_type": "stream",
     "text": [
      "Converted and saved: C:/Users/Lenovo/OneDrive/Desktop/Project_main/Mask_Anubhav\\E_B\\dbe05365-9166-45f7-94cf-cefca787215a___RS_Early.B 9144.jpg\n",
      "Conversion complete. All PNG images have been converted to JPEG.\n"
     ]
    }
   ],
   "source": [
    "# code to convert the .png masks to .jpg\n",
    "\n",
    "# Step 1: Install necessary libraries (if not already installed)\n",
    "#!pip install opencv-python\n",
    "\n",
    "# Step 2: Import required libraries\n",
    "import os\n",
    "import cv2\n",
    "\n",
    "# Step 4: Define the base path for the directory containing PNG images\n",
    "base_path = 'C:/Users/Lenovo/OneDrive/Desktop/Project_main/Mask_Anubhav'  # Update this path to your specific directory\n",
    "\n",
    "# Step 5: Function to convert PNG to JPEG\n",
    "def convert_png_to_jpg(image_path):\n",
    "    # Read the image using OpenCV\n",
    "    image = cv2.imread(image_path, cv2.IMREAD_UNCHANGED)\n",
    "\n",
    "    # Convert only if image is loaded successfully\n",
    "    if image is not None:\n",
    "        # Define the new image path with the .jpg extension\n",
    "        new_image_path = image_path.replace('.png', '.jpg')\n",
    "\n",
    "        # Convert and save the image in JPEG format\n",
    "        cv2.imwrite(new_image_path, image)\n",
    "\n",
    "        # Optional: Remove the original PNG file\n",
    "        os.remove(image_path)\n",
    "\n",
    "        print(f\"Converted and saved: {new_image_path}\")\n",
    "    else:\n",
    "        print(f\"Failed to load image: {image_path}\")\n",
    "\n",
    "# Step 6: Recursively traverse the directory to find and convert PNG images\n",
    "for root, dirs, files in os.walk(base_path):\n",
    "    for file in files:\n",
    "        if file.endswith('.png'):\n",
    "            file_path = os.path.join(root, file)\n",
    "            convert_png_to_jpg(file_path)\n",
    "\n",
    "print(\"Conversion complete. All PNG images have been converted to JPEG.\")"
   ]
  }
 ],
 "metadata": {
  "colab": {
   "provenance": []
  },
  "kernelspec": {
   "display_name": "My_deep_learning_env",
   "language": "python",
   "name": "python3"
  },
  "language_info": {
   "codemirror_mode": {
    "name": "ipython",
    "version": 3
   },
   "file_extension": ".py",
   "mimetype": "text/x-python",
   "name": "python",
   "nbconvert_exporter": "python",
   "pygments_lexer": "ipython3",
   "version": "3.12.4"
  }
 },
 "nbformat": 4,
 "nbformat_minor": 0
}
